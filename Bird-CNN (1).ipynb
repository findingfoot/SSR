{
 "cells": [
  {
   "cell_type": "code",
   "execution_count": 1,
   "metadata": {},
   "outputs": [
    {
     "name": "stderr",
     "output_type": "stream",
     "text": [
      "Using TensorFlow backend.\n"
     ]
    }
   ],
   "source": [
    "from keras.models import Sequential\n",
    "from keras.layers import Conv2D, MaxPool2D, BatchNormalization, Dense, Flatten, Activation, Dropout\n",
    "from keras.layers.advanced_activations import LeakyReLU\n",
    "from keras import losses\n",
    "from keras.utils import to_categorical\n",
    "import numpy as np\n",
    "import os\n",
    "from scipy.ndimage import imread\n",
    "from skimage.measure import block_reduce\n",
    "from sklearn.utils import shuffle\n",
    "\n",
    "%matplotlib inline\n",
    "import matplotlib.pyplot as plt\n",
    "import seaborn as sns"
   ]
  },
  {
   "cell_type": "markdown",
   "metadata": {},
   "source": [
    "## Load data"
   ]
  },
  {
   "cell_type": "code",
   "execution_count": 2,
   "metadata": {},
   "outputs": [
    {
     "name": "stdout",
     "output_type": "stream",
     "text": [
      "Number of training data:  322\n",
      "Number of test data:  323\n",
      "Total number of data:  645\n"
     ]
    }
   ],
   "source": [
    "downsample = 2\n",
    "\n",
    "with open('./essential_data/rec_id2filename.txt', 'r') as f:\n",
    "    filenames = f.read().split('\\n')\n",
    "filenames = [row.split(',')[1] for row in filenames[1:-1]]\n",
    "\n",
    "with open('./essential_data/bag_labels.txt', 'r') as f:\n",
    "    labels = f.read().split('\\n')\n",
    "\n",
    "is_test = np.loadtxt('./essential_data/CVfolds_2.txt', skiprows=1, delimiter=',', usecols=1, dtype=np.int32)\n",
    "\n",
    "train_name_x = [filename for row, filename in enumerate(filenames) if not is_test[row]]\n",
    "test_name_x = [filename for row, filename in enumerate(filenames) if is_test[row]]\n",
    "\n",
    "\n",
    "train_x = np.asarray([block_reduce(imread('./supplemental_data/spectrograms/' + filename + '.bmp'), block_size=(downsample, downsample), func=np.mean) for filename in train_name_x])\n",
    "test_x = np.asarray([block_reduce(imread('./supplemental_data/spectrograms/' + filename + '.bmp'), block_size=(downsample, downsample), func=np.mean) for filename in test_name_x])\n",
    "\n",
    "train_x = np.expand_dims(train_x, axis=3)\n",
    "test_x = np.expand_dims(test_x, axis=3)\n",
    "\n",
    "y = []\n",
    "for row in labels[1:-1]:\n",
    "    row = row.split(',')[1:]\n",
    "    new_row = np.zeros(19,dtype=np.int32)\n",
    "    if row[0] != '':\n",
    "        for nr in row:\n",
    "            new_row[int(nr)] = 1\n",
    "    y.append(new_row)\n",
    "\n",
    "train_y = np.array([y_1 for row, y_1 in enumerate(y) if not is_test[row]])\n",
    "test_y = np.array([y for row, y in enumerate(y) if is_test[row]])\n",
    "\n",
    "# Shuffle the training data\n",
    "train_x, train_y = shuffle(train_x, train_y)\n",
    "\n",
    "print('Number of training data: ', len(train_y))\n",
    "print('Number of test data: ', len(test_y))\n",
    "print('Total number of data: ', len(train_y) + len(test_y))"
   ]
  },
  {
   "cell_type": "markdown",
   "metadata": {},
   "source": [
    "### Create the model"
   ]
  },
  {
   "cell_type": "code",
   "execution_count": 3,
   "metadata": {},
   "outputs": [
    {
     "name": "stdout",
     "output_type": "stream",
     "text": [
      "_________________________________________________________________\n",
      "Layer (type)                 Output Shape              Param #   \n",
      "=================================================================\n",
      "conv2d_1 (Conv2D)            (None, 124, 619, 16)      416       \n",
      "_________________________________________________________________\n",
      "leaky_re_lu_1 (LeakyReLU)    (None, 124, 619, 16)      0         \n",
      "_________________________________________________________________\n",
      "max_pooling2d_1 (MaxPooling2 (None, 62, 309, 16)       0         \n",
      "_________________________________________________________________\n",
      "batch_normalization_1 (Batch (None, 62, 309, 16)       64        \n",
      "_________________________________________________________________\n",
      "conv2d_2 (Conv2D)            (None, 58, 305, 32)       12832     \n",
      "_________________________________________________________________\n",
      "leaky_re_lu_2 (LeakyReLU)    (None, 58, 305, 32)       0         \n",
      "_________________________________________________________________\n",
      "max_pooling2d_2 (MaxPooling2 (None, 29, 152, 32)       0         \n",
      "_________________________________________________________________\n",
      "batch_normalization_2 (Batch (None, 29, 152, 32)       128       \n",
      "_________________________________________________________________\n",
      "conv2d_3 (Conv2D)            (None, 25, 148, 64)       51264     \n",
      "_________________________________________________________________\n",
      "leaky_re_lu_3 (LeakyReLU)    (None, 25, 148, 64)       0         \n",
      "_________________________________________________________________\n",
      "max_pooling2d_3 (MaxPooling2 (None, 12, 74, 64)        0         \n",
      "_________________________________________________________________\n",
      "batch_normalization_3 (Batch (None, 12, 74, 64)        256       \n",
      "_________________________________________________________________\n",
      "conv2d_4 (Conv2D)            (None, 8, 70, 128)        204928    \n",
      "_________________________________________________________________\n",
      "leaky_re_lu_4 (LeakyReLU)    (None, 8, 70, 128)        0         \n",
      "_________________________________________________________________\n",
      "max_pooling2d_4 (MaxPooling2 (None, 4, 35, 128)        0         \n",
      "_________________________________________________________________\n",
      "batch_normalization_4 (Batch (None, 4, 35, 128)        512       \n",
      "_________________________________________________________________\n",
      "flatten_1 (Flatten)          (None, 17920)             0         \n",
      "_________________________________________________________________\n",
      "dense_1 (Dense)              (None, 1024)              18351104  \n",
      "_________________________________________________________________\n",
      "leaky_re_lu_5 (LeakyReLU)    (None, 1024)              0         \n",
      "_________________________________________________________________\n",
      "dropout_1 (Dropout)          (None, 1024)              0         \n",
      "_________________________________________________________________\n",
      "dense_2 (Dense)              (None, 19)                19475     \n",
      "_________________________________________________________________\n",
      "activation_1 (Activation)    (None, 19)                0         \n",
      "=================================================================\n",
      "Total params: 18,640,979.0\n",
      "Trainable params: 18,640,499.0\n",
      "Non-trainable params: 480.0\n",
      "_________________________________________________________________\n"
     ]
    }
   ],
   "source": [
    "model = Sequential()\n",
    "\n",
    "model.add(Conv2D(filters=16, kernel_size=(5, 5), strides=(1, 1), input_shape=(256//downsample, 1246//downsample, 1)))\n",
    "model.add(LeakyReLU(alpha=0.3))\n",
    "model.add(MaxPool2D(pool_size=(2, 2)))\n",
    "model.add(BatchNormalization())\n",
    "\n",
    "model.add(Conv2D(filters=32, kernel_size=(5, 5), strides=(1, 1)))\n",
    "model.add(LeakyReLU(alpha=0.3))\n",
    "model.add(MaxPool2D(pool_size=(2, 2)))\n",
    "model.add(BatchNormalization())\n",
    "\n",
    "model.add(Conv2D(filters=64, kernel_size=(5, 5), strides=(1, 1)))\n",
    "model.add(LeakyReLU(alpha=0.3))\n",
    "model.add(MaxPool2D(pool_size=(2, 2)))\n",
    "model.add(BatchNormalization())\n",
    "\n",
    "model.add(Conv2D(filters=128, kernel_size=(5, 5), strides=(1, 1)))\n",
    "model.add(LeakyReLU(alpha=0.3))\n",
    "model.add(MaxPool2D(pool_size=(2, 2)))\n",
    "model.add(BatchNormalization())\n",
    "\n",
    "model.add(Flatten())\n",
    "model.add(Dense(1024))\n",
    "model.add(LeakyReLU(alpha=0.3)) # Try with tanh or sigmoid?\n",
    "\n",
    "model.add(Dropout(0.5))\n",
    "\n",
    "model.add(Dense(19))\n",
    "model.add(Activation('sigmoid'))\n",
    "\n",
    "model.compile(optimizer='rmsprop',\n",
    "              loss='binary_crossentropy',\n",
    "              metrics=['accuracy'])\n",
    "\n",
    "model.summary()"
   ]
  },
  {
   "cell_type": "markdown",
   "metadata": {},
   "source": [
    "### Train the model"
   ]
  },
  {
   "cell_type": "code",
   "execution_count": 4,
   "metadata": {},
   "outputs": [
    {
     "name": "stdout",
     "output_type": "stream",
     "text": [
      "Train on 289 samples, validate on 33 samples\n",
      "Epoch 1/10\n",
      "289/289 [==============================] - 5s - loss: 2.3581 - acc: 0.8199 - val_loss: 5.5019 - val_acc: 0.6523\n",
      "Epoch 2/10\n",
      "289/289 [==============================] - 2s - loss: 1.4765 - acc: 0.9026 - val_loss: 4.9701 - val_acc: 0.6858\n",
      "Epoch 3/10\n",
      "289/289 [==============================] - 2s - loss: 1.0605 - acc: 0.9326 - val_loss: 1.9228 - val_acc: 0.8740\n",
      "Epoch 4/10\n",
      "289/289 [==============================] - 2s - loss: 1.0953 - acc: 0.9308 - val_loss: 1.2493 - val_acc: 0.9203\n",
      "Epoch 5/10\n",
      "289/289 [==============================] - 2s - loss: 1.0121 - acc: 0.9364 - val_loss: 1.2077 - val_acc: 0.9250\n",
      "Epoch 6/10\n",
      "289/289 [==============================] - 2s - loss: 1.0173 - acc: 0.9363 - val_loss: 1.2325 - val_acc: 0.9234\n",
      "Epoch 7/10\n",
      "289/289 [==============================] - 2s - loss: 0.8841 - acc: 0.9450 - val_loss: 1.1568 - val_acc: 0.9282\n",
      "Epoch 8/10\n",
      "289/289 [==============================] - 2s - loss: 0.8892 - acc: 0.9448 - val_loss: 1.1568 - val_acc: 0.9282\n",
      "Epoch 9/10\n",
      "289/289 [==============================] - 2s - loss: 0.9200 - acc: 0.9426 - val_loss: 1.3561 - val_acc: 0.9139\n",
      "Epoch 10/10\n",
      "289/289 [==============================] - 2s - loss: 0.9658 - acc: 0.9392 - val_loss: 1.1777 - val_acc: 0.9266\n"
     ]
    }
   ],
   "source": [
    "hist = model.fit(train_x, train_y, batch_size=8, epochs=10, verbose=1, callbacks=None, validation_split=0.1, shuffle=True)"
   ]
  },
  {
   "cell_type": "code",
   "execution_count": 5,
   "metadata": {},
   "outputs": [
    {
     "data": {
      "image/png": "[encoded data removed]",
      "text/plain": [
       "<matplotlib.figure.Figure at 0x7fef21bfa908>"
      ]
     },
     "metadata": {},
     "output_type": "display_data"
    },
    {
     "data": {
      "image/png": "[encoded data removed]",
      "text/plain": [
       "<matplotlib.figure.Figure at 0x7fef064c7400>"
      ]
     },
     "metadata": {},
     "output_type": "display_data"
    }
   ],
   "source": [
    "hist.history\n",
    "plt.plot(hist.history['acc'])\n",
    "plt.plot(hist.history['val_acc'])\n",
    "plt.title('Model accuracy')\n",
    "plt.ylabel('Accuracy')\n",
    "plt.xlabel('Epoch')\n",
    "plt.legend(['Train', 'Validation'], loc='upper left')\n",
    "plt.show()\n",
    "\n",
    "plt.plot(hist.history['loss'])\n",
    "plt.plot(hist.history['val_loss'])\n",
    "plt.title('Model loss')\n",
    "plt.ylabel('Loss')\n",
    "plt.xlabel('Epoch')\n",
    "plt.legend(['Train', 'Validation'], loc='upper left')\n",
    "plt.show()"
   ]
  },
  {
   "cell_type": "code",
   "execution_count": null,
   "metadata": {
    "collapsed": true
   },
   "outputs": [],
   "source": [
    "# start_idx = 0\n",
    "# end_idx = 5\n",
    "# preds = model.predict(test_x[start_idx:end_idx])\n",
    "\n",
    "# print(preds)\n",
    "# print(test_y[start_idx:end_idx])\n",
    "\n",
    "# preds[preds>=0.5] = 1\n",
    "# preds[preds<0.5] = 0\n",
    "\n",
    "# print(preds.astype(np.int32))"
   ]
  },
  {
   "cell_type": "code",
   "execution_count": 8,
   "metadata": {},
   "outputs": [
    {
     "name": "stdout",
     "output_type": "stream",
     "text": [
      "Accuracy on test set:  0.452012383901\n"
     ]
    }
   ],
   "source": [
    "preds = model.predict(test_x)\n",
    "preds[preds>=0.5] = 1\n",
    "preds[preds<0.5] = 0\n",
    "\n",
    "print('Accuracy on test set: ',np.sum(np.all(preds==test_y,axis=1))/test_y.shape[0])"
   ]
  },
  {
   "cell_type": "markdown",
   "metadata": {},
   "source": [
    "### Evaluate the model (Disregard code below this)"
   ]
  },
  {
   "cell_type": "code",
   "execution_count": null,
   "metadata": {
    "collapsed": true
   },
   "outputs": [],
   "source": [
    "\n",
    "start_idx = 0\n",
    "end_idx = 5\n",
    "print(test_y[start_idx:end_idx])\n",
    "for i in range(start_idx, end_idx):\n",
    "    plt.figure()\n",
    "    plt.imshow(test_x[i, ..., -1])\n",
    "    plt.show()"
   ]
  },
  {
   "cell_type": "code",
   "execution_count": null,
   "metadata": {
    "collapsed": true
   },
   "outputs": [],
   "source": [
    "# print('In: ', test_x[0:1])\n",
    "print('True out:\\n', test_y[0:5])\n",
    "print('Predicted out:\\n', model.predict(test_x[0:5]))"
   ]
  },
  {
   "cell_type": "code",
   "execution_count": null,
   "metadata": {
    "collapsed": true,
    "scrolled": false
   },
   "outputs": [],
   "source": [
    "metrics = model.evaluate(test_x, test_y, batch_size=8, verbose=1)\n",
    "print(model.metrics_names[0], metrics[0], model.metrics_names[1], metrics[1])"
   ]
  },
  {
   "cell_type": "code",
   "execution_count": null,
   "metadata": {
    "collapsed": true
   },
   "outputs": [],
   "source": [
    "%matplotlib inline\n",
    "from keras.utils import plot_model\n",
    "plot_model(model, to_file='model.png', show_shapes=False, show_layer_names=True)"
   ]
  }
 ],
 "metadata": {
  "kernelspec": {
   "display_name": "Python 3",
   "language": "python",
   "name": "python3"
  },
  "language_info": {
   "codemirror_mode": {
    "name": "ipython",
    "version": 3
   },
   "file_extension": ".py",
   "mimetype": "text/x-python",
   "name": "python",
   "nbconvert_exporter": "python",
   "pygments_lexer": "ipython3",
   "version": "3.6.5"
  }
 },
 "nbformat": 4,
 "nbformat_minor": 2
}
